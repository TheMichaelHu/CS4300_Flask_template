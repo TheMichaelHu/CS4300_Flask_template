{
 "cells": [
  {
   "cell_type": "code",
   "execution_count": 116,
   "metadata": {},
   "outputs": [],
   "source": [
    "import numpy as np\n",
    "import pandas as pd\n",
    "import matplotlib.pyplot as plt\n",
    "import os\n",
    "import re\n",
    "import parse\n",
    "import json\n",
    "import copy"
   ]
  },
  {
   "cell_type": "code",
   "execution_count": 117,
   "metadata": {},
   "outputs": [],
   "source": [
    "def parse_transcript(filename):\n",
    "    spaces_regex = re.compile(\"^(\\s*).*\")\n",
    "    location_regex = re.compile(\"^\\s*(INT\\.|EXT\\.)\")\n",
    "    line_list = []\n",
    "    options = [0] * 100\n",
    "    opt = []\n",
    "    transcript = []\n",
    "\n",
    "    text_file = open(filename, \"r\")\n",
    "    lines = text_file.readlines()\n",
    "    for l in lines:\n",
    "        li = l.strip(' \\n\\t\\r')\n",
    "        if li != \"\":\n",
    "            spmatch = spaces_regex.search(l)\n",
    "            spaces_number = len(spmatch.group(1))\n",
    "            options[spaces_number] += 1\n",
    "            line_list.append((li, spaces_number))\n",
    "    for i in range(0, 50):\n",
    "        if options[i] >= 20:\n",
    "            opt.append(i)\n",
    "    print(opt)\n",
    "    text_file.close()\n",
    "\n",
    "    speaker = \"\"\n",
    "    utterance = \"\"\n",
    "\n",
    "    for l in lines:\n",
    "        li = l.strip(' \\n\\t\\r')\n",
    "        if li != \"\":\n",
    "            spmatch = spaces_regex.search(l)\n",
    "            spaces_number = len(spmatch.group(1))\n",
    "            if spaces_number == opt[2]:\n",
    "                if utterance != \"\" and speaker != \"\":\n",
    "                    transcript.append(\n",
    "                        {'speaker': speaker, 'utterance': utterance.strip()})\n",
    "                    utterance = \"\"\n",
    "                speaker = re.sub(r'\\([^()]*\\)', '', li).strip(' \\n\\t\\r')\n",
    "            elif spaces_number == opt[1]:\n",
    "                utterance += \" \" + li\n",
    "            else:\n",
    "                if utterance != \"\" and speaker != \"\":\n",
    "                    transcript.append(\n",
    "                        {'speaker': speaker, 'utterance': utterance.strip()})\n",
    "                    utterance = \"\"\n",
    "                    speaker = \"\"\n",
    "\n",
    "    return transcript"
   ]
  },
  {
   "cell_type": "code",
   "execution_count": 118,
   "metadata": {},
   "outputs": [
    {
     "name": "stdout",
     "output_type": "stream",
     "text": [
      "[0, 28, 30, 31, 32, 33, 34, 35, 36]\n"
     ]
    }
   ],
   "source": [
    "SCRIPT_PATH = \"./data/scripts/Titanic.txt\"\n",
    "MOVIE_NAME = \"Titanic\"\n",
    "parsed_transcript = (parse_transcript(SCRIPT_PATH))"
   ]
  },
  {
   "cell_type": "code",
   "execution_count": 119,
   "metadata": {},
   "outputs": [],
   "source": [
    "def make_line_dict(transcript):\n",
    "    line_dict = dict()\n",
    "\n",
    "    print(parsed_transcript[0])\n",
    "    \n",
    "    for i in np.arange(len(parsed_transcript)):\n",
    "        speaker = parsed_transcript[i]['speaker']\n",
    "        line = parsed_transcript[i]['utterance']\n",
    "        if speaker in line_dict.keys():\n",
    "            line_dict[speaker] += [line]\n",
    "        else:\n",
    "            line_dict[speaker] = [line]\n",
    "            \n",
    "    return line_dict"
   ]
  },
  {
   "cell_type": "code",
   "execution_count": 120,
   "metadata": {},
   "outputs": [],
   "source": [
    "credits = pd.read_csv('./data/tmdb_5000_credits.csv')"
   ]
  },
  {
   "cell_type": "code",
   "execution_count": 121,
   "metadata": {},
   "outputs": [
    {
     "name": "stdout",
     "output_type": "stream",
     "text": [
      "{'utterance': '(to the video crew)', 'speaker': 'a screenplay by'}\n"
     ]
    }
   ],
   "source": [
    "movie_titles = np.array(credits[\"title\"].tolist())\n",
    "movie_num = np.where(movie_titles == \"Titanic\")\n",
    "movie_cast = np.array(credits[\"cast\"].tolist())[movie_num][0]\n",
    "line_dict = make_line_dict(parsed_transcript)"
   ]
  },
  {
   "cell_type": "code",
   "execution_count": 122,
   "metadata": {},
   "outputs": [],
   "source": [
    "movie_char_list = json.loads(movie_cast)\n",
    "gender_dict = dict()\n",
    "movie_char_list_copy = copy.deepcopy(movie_char_list)\n",
    "\n",
    "for speaker in line_dict.keys():\n",
    "    speaker_dist = list()\n",
    "    for d in movie_char_list_copy:\n",
    "        if speaker.lower() == d['character'].lower() or speaker.lower() in ([x.lower() for x in d['character'].split(' ')]):            \n",
    "            gender_dict[d['character']] = speaker, d['name'], d['gender']\n",
    "            movie_char_list_copy.remove(d)\n",
    "            break"
   ]
  },
  {
   "cell_type": "code",
   "execution_count": 126,
   "metadata": {},
   "outputs": [
    {
     "name": "stdout",
     "output_type": "stream",
     "text": [
      "LIZZY\n",
      "0.058823529411764705\n",
      "BODINE\n",
      "0.058823529411764705\n",
      "LOVETT\n",
      "0.058823529411764705\n",
      "REPORTER\n",
      "0.058823529411764705\n",
      "MASTER AT ARMS\n",
      "0.058823529411764705\n",
      "OLD ROSE\n",
      "0.6470588235294118\n",
      "STEWARD BARNES\n",
      "0.058823529411764705\n"
     ]
    }
   ],
   "source": [
    "ethnicities = pd.read_csv('./data/ethnicelebs.csv', header = None)\n",
    "actor_names = ethnicities[0].tolist()\n",
    "actor_ethnicities = ethnicities[1].tolist()\n",
    "\n",
    "ethnicity_dict = dict()\n",
    "            \n",
    "for character in gender_dict.keys():\n",
    "    speaker, name, gender = gender_dict[character]\n",
    "    actor = '-'.join(name.lower().split(' '))\n",
    "    try:\n",
    "        actor_ethnicity = actor_ethnicities[actor_names.index(actor)]\n",
    "        ethnicity_dict[character] = speaker, name, actor_ethnicity\n",
    "    except ValueError:\n",
    "        pass\n",
    "\n",
    "gender_count = dict()\n",
    "gender_chars = dict()\n",
    "total_count = 0\n",
    "total_chars = 0\n",
    "for character in gender_dict.keys():\n",
    "    speaker, name, gender = gender_dict[character]\n",
    "    total_count += num_lines\n",
    "    total_chars += 1\n",
    "    num_lines = len(line_dict[speaker])\n",
    "    if gender in gender_count.keys():\n",
    "        gender_count[gender] += num_lines\n",
    "        gender_chars[gender] += 1\n",
    "    else:\n",
    "        gender_count[gender] = num_lines\n",
    "        gender_chars[gender] = 1\n",
    "    \n",
    "for g in gender_dict.keys():\n",
    "    speaker, name, gender = gender_dict[g]\n",
    "    num_lines = len(line_dict[speaker])\n",
    "    print(speaker)\n",
    "    print(num_lines / total_count)"
   ]
  },
  {
   "cell_type": "code",
   "execution_count": 128,
   "metadata": {},
   "outputs": [
    {
     "name": "stdout",
     "output_type": "stream",
     "text": [
      "LOVETT\n",
      "Bill Paxton\n",
      "English, Scots-Irish/Northern Irish, Scottish, Austrian, German, French, Swiss, Dutch, distant Welsh, remote Norwegian\n",
      "{'Swiss': 1, 'English': 1, 'Welsh': 1, 'Norwegian': 1, 'Austrian': 1, 'Scottish': 1, 'Scots-Irish/Northern Irish': 1, 'Dutch': 1, 'French': 1, 'German': 1}\n"
     ]
    }
   ],
   "source": [
    "ethnicities_count = dict()\n",
    "\n",
    "for character in ethnicity_dict.keys():\n",
    "    speaker, name, ethnicity = ethnicity_dict[character]\n",
    "    print(speaker)\n",
    "    print(name)\n",
    "    print(ethnicity)\n",
    "    num_lines = len(line_dict[speaker])\n",
    "    ethnicities = [x.strip() for x in ethnicity.split(\",\")]\n",
    "    ethnicities_list = list()\n",
    "    \n",
    "    for ethnicity in ethnicities:\n",
    "        e = ethnicity.split(' ')\n",
    "        if len(e) == 0:\n",
    "            ethnicities_list += [e[0]]\n",
    "        else:\n",
    "            np_e = np.array(e)\n",
    "            e = []\n",
    "            for e_num in np_e:\n",
    "                if not any(char.isdigit() or char == \"(\" or char == \")\" for char in e_num):\n",
    "                    if  e_num[:1].upper() + e_num[1:] == e_num:\n",
    "                        e += [e_num]\n",
    "            ethnicities_list += [' '.join(e)]\n",
    "    \n",
    "    for ethnicity in ethnicities_list:\n",
    "        if ethnicity in ethnicities_count.keys():\n",
    "            ethnicities_count[ethnicity] += num_lines\n",
    "        else:\n",
    "            ethnicities_count[ethnicity] = num_lines\n",
    "            \n",
    "print(ethnicities_count)"
   ]
  },
  {
   "cell_type": "code",
   "execution_count": null,
   "metadata": {},
   "outputs": [],
   "source": []
  }
 ],
 "metadata": {
  "kernelspec": {
   "display_name": "venv",
   "language": "python",
   "name": "venv"
  },
  "language_info": {
   "codemirror_mode": {
    "name": "ipython",
    "version": 3
   },
   "file_extension": ".py",
   "mimetype": "text/x-python",
   "name": "python",
   "nbconvert_exporter": "python",
   "pygments_lexer": "ipython3",
   "version": "3.5.2"
  }
 },
 "nbformat": 4,
 "nbformat_minor": 2
}
