{
 "cells": [
  {
   "cell_type": "code",
   "execution_count": 1,
   "metadata": {},
   "outputs": [],
   "source": [
    "import json\n",
    "import os\n",
    "\n",
    "DATA_DIR = \"./data\""
   ]
  },
  {
   "cell_type": "code",
   "execution_count": 2,
   "metadata": {},
   "outputs": [
    {
     "name": "stdout",
     "output_type": "stream",
     "text": [
      "loaded 746 movies\n"
     ]
    }
   ],
   "source": [
    "movies = []\n",
    "script_path = \"%s/parsed_scripts_bad/\" % DATA_DIR\n",
    "for movie_json in os.listdir(script_path):\n",
    "    if movie_json[-5:] == \".json\":\n",
    "        file_path = script_path + movie_json\n",
    "        data = json.load(open(file_path, \"r\"))\n",
    "        movies.append(data)\n",
    "print(\"loaded %d movies\" % len(movies))"
   ]
  },
  {
   "cell_type": "code",
   "execution_count": 3,
   "metadata": {},
   "outputs": [
    {
     "name": "stdout",
     "output_type": "stream",
     "text": [
      "loaded 759 movies\n"
     ]
    }
   ],
   "source": [
    "new_movies = []\n",
    "script_path = \"%s/parsed_scripts_new/\" % DATA_DIR\n",
    "for movie_json in os.listdir(script_path):\n",
    "    if movie_json[-5:] == \".json\":\n",
    "        file_path = script_path + movie_json\n",
    "        data = json.load(open(file_path, \"r\"))\n",
    "        data[\"movie_metadata\"] = {\n",
    "            \"slug\": movie_json[:-5],\n",
    "        }\n",
    "        new_movies.append(data)\n",
    "print(\"loaded %d movies\" % len(new_movies))"
   ]
  },
  {
   "cell_type": "code",
   "execution_count": 4,
   "metadata": {},
   "outputs": [
    {
     "name": "stdout",
     "output_type": "stream",
     "text": [
      "updated 746 movies\n"
     ]
    }
   ],
   "source": [
    "counter = 0\n",
    "updated_movies = []\n",
    "for movie in movies:\n",
    "    for new_movie in new_movies:\n",
    "        if movie[\"movie_metadata\"][\"slug\"] == new_movie[\"movie_metadata\"][\"slug\"]:\n",
    "            counter += 1\n",
    "            movie[\"empath_metadata\"] = new_movie[\"empath_metadata\"]\n",
    "            updated_movies.append(movie)\n",
    "            break\n",
    "print(\"updated %d movies\" % counter)"
   ]
  },
  {
   "cell_type": "code",
   "execution_count": 5,
   "metadata": {},
   "outputs": [
    {
     "data": {
      "text/plain": [
       "{'actor_metadata': {'Allison Sie': {'actor_id': 54,\n",
       "   'char_name': 'Hotel Desk Clerk'},\n",
       "  'Anna Gunn': {'actor_id': 49, 'char_name': 'Emily Reynolds'},\n",
       "  'Arthur J. Nascarella': {'actor_id': 57, 'char_name': 'Frankie'},\n",
       "  'Barry Pepper': {'actor_id': 22, 'char_name': 'David Pratt'},\n",
       "  'Bobby Boriello': {'actor_id': 51, 'char_name': 'Dylan'},\n",
       "  'Bodhi Elfman': {'actor_id': 31, 'char_name': 'Van'},\n",
       "  'Brenna McDonough': {'actor_id': 38, 'char_name': 'Field Reporter'},\n",
       "  'Brian Markinson': {'actor_id': 47,\n",
       "   'char_name': 'Attorney Brian Blake (uncredited)'},\n",
       "  'Carl Mergenthaler': {'actor_id': 52, 'char_name': 'Mike - Law Firm'},\n",
       "  'Christopher Lawrence': {'actor_id': 62, 'char_name': 'Paramedic'},\n",
       "  'Dan Butler': {'actor_id': 28, 'char_name': 'Shaffer'},\n",
       "  'Donna W. Scott': {'actor_id': 53, 'char_name': 'Jenny'},\n",
       "  'Frank Medrano': {'actor_id': 58, 'char_name': 'Bartender'},\n",
       "  'Gabriel Byrne': {'actor_id': 5, 'char_name': 'Fake Brill'},\n",
       "  'Gene Hackman': {'actor_id': 2, 'char_name': 'Edward \"Brill\" Lyle'},\n",
       "  'Grant Heslov': {'actor_id': 18, 'char_name': 'Lenny'},\n",
       "  'Ian Hart': {'actor_id': 23, 'char_name': 'John Bingham'},\n",
       "  'Ivana Miličević': {'actor_id': 32, 'char_name': \"Ruby's Sales Clerk\"},\n",
       "  'Jack Black': {'actor_id': 29, 'char_name': 'Fiedler'},\n",
       "  'Jake Busey': {'actor_id': 24, 'char_name': 'Krug'},\n",
       "  'James Le Gros': {'actor_id': 27, 'char_name': 'Jerry Miller'},\n",
       "  'Jamie Kennedy': {'actor_id': 30, 'char_name': 'Jamie Williams'},\n",
       "  'Jascha Washington': {'actor_id': 50, 'char_name': 'Eric Dean'},\n",
       "  'Jason Lee': {'actor_id': 26, 'char_name': 'Daniel Leon Zavitz'},\n",
       "  'Jason Robards': {'actor_id': 35,\n",
       "   'char_name': 'Congressman Phillip Hammersley (uncredited)'},\n",
       "  'John Capodice': {'actor_id': 56, 'char_name': 'Older Worker #1'},\n",
       "  'Jon Voight': {'actor_id': 3, 'char_name': 'Thomas Brian Reynolds'},\n",
       "  'Joseph Patrick Kelly': {'actor_id': 59, 'char_name': 'Fireman #2'},\n",
       "  'Larry King': {'actor_id': 48, 'char_name': 'Himself (uncredited)'},\n",
       "  'Laura Cayouette': {'actor_id': 20, 'char_name': 'Christa Hawkins'},\n",
       "  'Lennox Brown': {'actor_id': 60, 'char_name': 'Tunnel Maintenance Worker'},\n",
       "  'Lillo Brancato': {'actor_id': 55, 'char_name': 'Young Worker'},\n",
       "  'Lisa Bonet': {'actor_id': 4, 'char_name': 'Rachel Banks'},\n",
       "  'Loren Dean': {'actor_id': 21, 'char_name': 'Loren Hicks'},\n",
       "  'Nancy Yee': {'actor_id': 61, 'char_name': 'Mrs. Wu'},\n",
       "  'Philip Baker Hall': {'actor_id': 34,\n",
       "   'char_name': 'Attorney Mark Silverberg (uncredited)'},\n",
       "  'Regina King': {'actor_id': 17, 'char_name': 'Carla Dean'},\n",
       "  'Scott Caan': {'actor_id': 25, 'char_name': 'Jones'},\n",
       "  'Seth Green': {'actor_id': 33, 'char_name': 'Selby (uncredited)'},\n",
       "  'Stuart Wilson': {'actor_id': 19, 'char_name': 'Congressman Sam Albert'},\n",
       "  'Tom Quinn': {'actor_id': 37, 'char_name': 'Tunnel Technician'},\n",
       "  'Tom Sizemore': {'actor_id': 63, 'char_name': 'Boss Paulie Pintero'},\n",
       "  'Will Smith': {'actor_id': 16, 'char_name': 'Robert Clayton Dean'}},\n",
       " 'bechdel_metadata': {'conversation': {}, 'passes': False},\n",
       " 'char_metadata': {},\n",
       " 'crew_metadata': {'Andrew Z. Davis': {'crew_id': 57864,\n",
       "   'job_name': 'Executive Producer'},\n",
       "  'Benjamín Fernández': {'crew_id': 4710, 'job_name': 'Production Design'},\n",
       "  'Chad Oman': {'crew_id': 2446, 'job_name': 'Executive Producer'},\n",
       "  'Chris Lebenzon': {'crew_id': 541, 'job_name': 'Editor'},\n",
       "  'Daniel Mindel': {'crew_id': 15348, 'job_name': 'Director of Photography'},\n",
       "  'David Marconi': {'crew_id': 21002, 'job_name': 'Writer'},\n",
       "  'Donald B. Woodruff': {'crew_id': 2528, 'job_name': 'Art Direction'},\n",
       "  'Garrett Lewis': {'crew_id': 11413, 'job_name': 'Set Decoration'},\n",
       "  'Harry Gregson-Williams': {'crew_id': 5553,\n",
       "   'job_name': 'Original Music Composer'},\n",
       "  'James J. Murakami': {'crew_id': 795, 'job_name': 'Art Direction'},\n",
       "  'James W. Skotchdopole': {'crew_id': 4701, 'job_name': 'Executive Producer'},\n",
       "  'Jennifer A. Davis': {'crew_id': 1380472, 'job_name': 'Art Direction'},\n",
       "  'Jerry Bruckheimer': {'crew_id': 770, 'job_name': 'Producer'},\n",
       "  'Marlene Stewart': {'crew_id': 3989, 'job_name': 'Costume Design'},\n",
       "  'Paul A. Edwards': {'crew_id': 1402095, 'job_name': 'Camera Operator'},\n",
       "  'Tony Scott': {'crew_id': 893, 'job_name': 'Director'},\n",
       "  'Trevor Rabin': {'crew_id': 894, 'job_name': 'Original Music Composer'},\n",
       "  'Victoria Thomas': {'crew_id': 547, 'job_name': 'Casting'}},\n",
       " 'distribution_metadata': {'gender_dist': {'by_crew': {'female': 0.11,\n",
       "    'male': 0.89,\n",
       "    'other': 0},\n",
       "   'by_line': {'female': 0, 'male': 0, 'other': 0},\n",
       "   'by_movie': {'female': 0, 'male': 0, 'other': 0}},\n",
       "  'race_dist': {'by_line': {}, 'by_movie': {}},\n",
       "  'stereotype_dist': {'by_line': [['Stereotypical', 0],\n",
       "    ['Not stereotypical', 1]],\n",
       "   'by_movie': [['Stereotypical', 0], ['Not stereotypical', 1]]}},\n",
       " 'empath_metadata': {'gender_category_metadata': {'female/female': ['negotiate',\n",
       "    'masculine',\n",
       "    'emotion',\n",
       "    'cheerfulness',\n",
       "    'worship',\n",
       "    'superhero',\n",
       "    'sound',\n",
       "    'ancient',\n",
       "    'hygiene',\n",
       "    'fire'],\n",
       "   'male/female': ['negotiate',\n",
       "    'masculine',\n",
       "    'emotion',\n",
       "    'cheerfulness',\n",
       "    'worship',\n",
       "    'superhero',\n",
       "    'sound',\n",
       "    'ancient',\n",
       "    'hygiene',\n",
       "    'fire'],\n",
       "   'male/male': ['negotiate',\n",
       "    'masculine',\n",
       "    'emotion',\n",
       "    'cheerfulness',\n",
       "    'worship',\n",
       "    'superhero',\n",
       "    'sound',\n",
       "    'ancient',\n",
       "    'hygiene',\n",
       "    'fire']},\n",
       "  'gender_emotion_metadata': {'female': {'anger': 0.0,\n",
       "    'disgust': 0.0,\n",
       "    'envy': 0.0,\n",
       "    'fear': 0.0,\n",
       "    'joy': 0.0,\n",
       "    'love': 0.0,\n",
       "    'sadness': 0.0,\n",
       "    'shame': 0.0,\n",
       "    'surprise': 0.0},\n",
       "   'male': {'anger': 0.0,\n",
       "    'disgust': 0.0,\n",
       "    'envy': 0.0,\n",
       "    'fear': 0.0,\n",
       "    'joy': 0.0,\n",
       "    'love': 0.0,\n",
       "    'sadness': 0.0,\n",
       "    'shame': 0.0,\n",
       "    'surprise': 0.0},\n",
       "   'other': {'anger': 0.0,\n",
       "    'disgust': 0.0,\n",
       "    'envy': 0.0,\n",
       "    'fear': 0.0,\n",
       "    'joy': 0.0,\n",
       "    'love': 0.0,\n",
       "    'sadness': 0.0,\n",
       "    'shame': 0.0,\n",
       "    'surprise': 0.0}},\n",
       "  'race_category_metadata': {},\n",
       "  'race_emotion_metadata': {}},\n",
       " 'movie_metadata': {'box_office': '250649836',\n",
       "  'budget': '90000000',\n",
       "  'genres': ['action', 'drama', 'thriller'],\n",
       "  'id': 9798,\n",
       "  'imdb_review_sentiment': 'Positive',\n",
       "  'imdb_reviews': ['What was just a movie then is quickly becoming reality now. With the erosion of our rights and privacy online, this movie should have served as a harbinger of a world we do not want to live in.\\r\\n\\r\\nWe are introduced to the same arguments politicians, the wealthy and the agencies brought forth after the terror attacks we endured. The exact same rhetoric is used in this film (\"if you have nothing to hide...\"). At times, it looks like the real world emulates fiction or worse, this film was a blue print.\\r\\n\\r\\nFrom a protagonist unaware or unwilling to see the state of affairs, who\\'s unwittingly caught in the path of bad guys, to what might then have been a tinfoil hat wearing, paranoid conspiracy theorist, but would now (post Snowden) be a a very concerned citizen, this film has what it needs to tell a good story.\\r\\n\\r\\nWhat\\'s great too is the ending, which is bittersweet. It reflects pretty well what goes on in the highest spheres where the working class has little to no influence.\\r\\n\\r\\nAll in all, a great film for everybody.'],\n",
       "  'imdb_url': 'https://www.imdb.com/title/tt0120660',\n",
       "  'name': 'Enemy of the State',\n",
       "  'num_awards': 0,\n",
       "  'poster_image_url': 'https://ia.media-imdb.com/images/M/MV5BMWI0Y2NhMzMtYTE5ZS00MDlhLTg0ZjEtMjAwZmEwNTc0ODc2XkEyXkFqcGdeQXVyNjU0OTQ0OTY@._V1_SX300.jpg',\n",
       "  'rating': '6.7',\n",
       "  'release_yr': '1998',\n",
       "  'review_score': '7.3',\n",
       "  'script': 'enemy-of-the-state',\n",
       "  'slug': 'enemy-of-the-state',\n",
       "  'synopsis': 'Hotshot Washington lawyer, Robert Dean becomes a victim of high-tech identity theft when a hacker slips an incriminating video into his pocket. Soon, a rogue National Security agent sets out to recover the tape – and destroy Dean.'}}"
      ]
     },
     "execution_count": 5,
     "metadata": {},
     "output_type": "execute_result"
    }
   ],
   "source": [
    "updated_movies[0]"
   ]
  },
  {
   "cell_type": "code",
   "execution_count": 6,
   "metadata": {},
   "outputs": [],
   "source": [
    "target_dir = \"%s/parsed_scripts\"  % DATA_DIR\n",
    "if not os.path.exists(target_dir):\n",
    "    os.makedirs(target_dir)\n",
    "    \n",
    "for movie in updated_movies:\n",
    "    file = \"%s/parsed_scripts/%s.json\"  % (DATA_DIR, movie[\"movie_metadata\"][\"slug\"])\n",
    "    with open(file, 'w+') as outfile:\n",
    "        json.dump(movie, outfile, indent=4, sort_keys=True)\n",
    "\n",
    "    # also write to app data\n",
    "    with open(\"../app/data/movies/%s.json\" % movie[\"movie_metadata\"][\"slug\"], 'w+') as outfile:\n",
    "        json.dump(movie, outfile, indent=4, sort_keys=True)"
   ]
  },
  {
   "cell_type": "code",
   "execution_count": null,
   "metadata": {},
   "outputs": [],
   "source": []
  }
 ],
 "metadata": {
  "kernelspec": {
   "display_name": "Python 3",
   "language": "python",
   "name": "python3"
  },
  "language_info": {
   "codemirror_mode": {
    "name": "ipython",
    "version": 3
   },
   "file_extension": ".py",
   "mimetype": "text/x-python",
   "name": "python",
   "nbconvert_exporter": "python",
   "pygments_lexer": "ipython3",
   "version": "3.6.4"
  }
 },
 "nbformat": 4,
 "nbformat_minor": 2
}
