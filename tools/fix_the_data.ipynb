{
 "cells": [
  {
   "cell_type": "code",
   "execution_count": 1,
   "metadata": {},
   "outputs": [],
   "source": [
    "import json\n",
    "import os\n",
    "\n",
    "DATA_DIR = \"./data\""
   ]
  },
  {
   "cell_type": "code",
   "execution_count": 2,
   "metadata": {},
   "outputs": [
    {
     "name": "stdout",
     "output_type": "stream",
     "text": [
      "loaded 757 movies\n"
     ]
    }
   ],
   "source": [
    "movies = []\n",
    "script_path = \"%s/parsed_scripts_old/\" % DATA_DIR\n",
    "for movie_json in os.listdir(script_path):\n",
    "    if movie_json[-5:] == \".json\":\n",
    "        file_path = script_path + movie_json\n",
    "        data = json.load(open(file_path, \"r\"))\n",
    "        movies.append(data)\n",
    "print(\"loaded %d movies\" % len(movies))"
   ]
  },
  {
   "cell_type": "code",
   "execution_count": 3,
   "metadata": {},
   "outputs": [
    {
     "name": "stdout",
     "output_type": "stream",
     "text": [
      "loaded 759 movies\n"
     ]
    }
   ],
   "source": [
    "new_movies = []\n",
    "script_path = \"%s/parsed_scripts_new/\" % DATA_DIR\n",
    "for movie_json in os.listdir(script_path):\n",
    "    if movie_json[-5:] == \".json\":\n",
    "        file_path = script_path + movie_json\n",
    "        data = json.load(open(file_path, \"r\"))\n",
    "        new_movies.append(data)\n",
    "print(\"loaded %d movies\" % len(new_movies))"
   ]
  },
  {
   "cell_type": "code",
   "execution_count": 4,
   "metadata": {},
   "outputs": [
    {
     "name": "stdout",
     "output_type": "stream",
     "text": [
      "updated 746 movies\n"
     ]
    }
   ],
   "source": [
    "counter = 0\n",
    "updated_movies = []\n",
    "for movie in movies:\n",
    "    for new_movie in new_movies:\n",
    "        if movie[\"movie_metadata\"][\"slug\"] == new_movie[\"movie_metadata\"][\"slug\"]:\n",
    "            counter += 1\n",
    "            movie[\"empath_metadata\"] = new_movie[\"empath_metadata\"]\n",
    "            movie[\"bechdel_metadata\"] = new_movie[\"bechdel_metadata\"]\n",
    "            updated_movies.append(movie)\n",
    "            break\n",
    "print(\"updated %d movies\" % counter)"
   ]
  },
  {
   "cell_type": "code",
   "execution_count": 5,
   "metadata": {},
   "outputs": [],
   "source": [
    "target_dir = \"%s/parsed_scripts\"  % DATA_DIR\n",
    "if not os.path.exists(target_dir):\n",
    "    os.makedirs(target_dir)\n",
    "    \n",
    "for movie in updated_movies:\n",
    "    file = \"%s/parsed_scripts/%s.json\"  % (DATA_DIR, movie[\"movie_metadata\"][\"slug\"])\n",
    "    with open(file, 'w+') as outfile:\n",
    "        json.dump(movie, outfile, indent=4, sort_keys=True)\n",
    "\n",
    "    # also write to app data\n",
    "    with open(\"../app/data/movies/%s.json\" % movie[\"movie_metadata\"][\"slug\"], 'w+') as outfile:\n",
    "        json.dump(movie, outfile, indent=4, sort_keys=True)"
   ]
  },
  {
   "cell_type": "code",
   "execution_count": null,
   "metadata": {},
   "outputs": [],
   "source": []
  }
 ],
 "metadata": {
  "kernelspec": {
   "display_name": "Python 3",
   "language": "python",
   "name": "python3"
  },
  "language_info": {
   "codemirror_mode": {
    "name": "ipython",
    "version": 3
   },
   "file_extension": ".py",
   "mimetype": "text/x-python",
   "name": "python",
   "nbconvert_exporter": "python",
   "pygments_lexer": "ipython3",
   "version": "3.6.4"
  }
 },
 "nbformat": 4,
 "nbformat_minor": 2
}
